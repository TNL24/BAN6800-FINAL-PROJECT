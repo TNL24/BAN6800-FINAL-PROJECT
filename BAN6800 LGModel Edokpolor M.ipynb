{
 "cells": [
  {
   "cell_type": "code",
   "execution_count": 3,
   "id": "15e6a164-418e-4651-8ee1-9485d7f20a1d",
   "metadata": {},
   "outputs": [
    {
     "name": "stdout",
     "output_type": "stream",
     "text": [
      "   ProductID  ProductPrice  CustomerAge  CustomerGender  PurchaseFrequency  \\\n",
      "0       5874     -1.463484    -1.683711               0          -1.474937   \n",
      "\n",
      "   CustomerSatisfaction  PurchaseIntent  ProductCategory_Laptops  \\\n",
      "0                     1               0                        0   \n",
      "\n",
      "   ProductCategory_Smart Watches  ProductCategory_Smartphones  \\\n",
      "0                              0                            1   \n",
      "\n",
      "   ProductCategory_Tablets  ProductBrand_HP  ProductBrand_Other Brands  \\\n",
      "0                        0                0                          1   \n",
      "\n",
      "   ProductBrand_Samsung  ProductBrand_Sony  \n",
      "0                     0                  0  \n"
     ]
    }
   ],
   "source": [
    "import pandas as pd  # Make sure pandas is imported\n",
    "\n",
    "# Load the dataset from the provided path\n",
    "file_path = r\"C:\\Users\\Ogbemudia\\Downloads\\processed_data_model_ready.csv\"  # Using raw string to handle backslashes\n",
    "data = pd.read_csv(file_path)\n",
    "\n",
    "# Display the first row to check for categorical variables\n",
    "print(data.head(1))\n"
   ]
  },
  {
   "cell_type": "code",
   "execution_count": 4,
   "id": "a4e6d414-5e99-4d61-b774-011c18f4702f",
   "metadata": {},
   "outputs": [
    {
     "data": {
      "text/plain": [
       "ProductID                        0\n",
       "ProductPrice                     0\n",
       "CustomerAge                      0\n",
       "CustomerGender                   0\n",
       "PurchaseFrequency                0\n",
       "CustomerSatisfaction             0\n",
       "PurchaseIntent                   0\n",
       "ProductCategory_Laptops          0\n",
       "ProductCategory_Smart Watches    0\n",
       "ProductCategory_Smartphones      0\n",
       "ProductCategory_Tablets          0\n",
       "ProductBrand_HP                  0\n",
       "ProductBrand_Other Brands        0\n",
       "ProductBrand_Samsung             0\n",
       "ProductBrand_Sony                0\n",
       "dtype: int64"
      ]
     },
     "execution_count": 4,
     "metadata": {},
     "output_type": "execute_result"
    }
   ],
   "source": [
    "# Check for missing values\n",
    "data.isnull().sum()\n"
   ]
  },
  {
   "cell_type": "code",
   "execution_count": 5,
   "id": "44f63b0c-7fd4-4e75-97be-2184bdc8c019",
   "metadata": {},
   "outputs": [],
   "source": [
    "from sklearn.preprocessing import StandardScaler\n",
    "\n",
    "scaler = StandardScaler()\n",
    "scaled_data = scaler.fit_transform(data)\n"
   ]
  },
  {
   "cell_type": "code",
   "execution_count": 6,
   "id": "aa526197-c2e8-427a-a4c0-e31cbc1321ba",
   "metadata": {
    "scrolled": true
   },
   "outputs": [
    {
     "name": "stdout",
     "output_type": "stream",
     "text": [
      "ProductID                        0\n",
      "ProductPrice                     0\n",
      "CustomerAge                      0\n",
      "CustomerGender                   0\n",
      "PurchaseFrequency                0\n",
      "CustomerSatisfaction             0\n",
      "PurchaseIntent                   0\n",
      "ProductCategory_Laptops          0\n",
      "ProductCategory_Smart Watches    0\n",
      "ProductCategory_Smartphones      0\n",
      "ProductCategory_Tablets          0\n",
      "ProductBrand_HP                  0\n",
      "ProductBrand_Other Brands        0\n",
      "ProductBrand_Samsung             0\n",
      "ProductBrand_Sony                0\n",
      "dtype: int64\n"
     ]
    }
   ],
   "source": [
    "# Check for missing values in the dataset\n",
    "missing_values = data.isnull().sum()\n",
    "\n",
    "# Show the missing values in each column\n",
    "print(missing_values)\n"
   ]
  },
  {
   "cell_type": "code",
   "execution_count": 7,
   "id": "d23c06de-7657-41be-a8fb-9dc3a61f3702",
   "metadata": {},
   "outputs": [],
   "source": [
    "# Impute missing numerical values with the mean\n",
    "data.fillna(data.mean(), inplace=True)\n",
    "\n",
    "# Drop rows with any missing values\n",
    "# data.dropna(inplace=True)\n"
   ]
  },
  {
   "cell_type": "code",
   "execution_count": 8,
   "id": "3a77e7a9-7e55-4162-b33b-2e5a9743f2e6",
   "metadata": {},
   "outputs": [
    {
     "name": "stdout",
     "output_type": "stream",
     "text": [
      "Duplicate rows: 0\n"
     ]
    }
   ],
   "source": [
    "# Check for duplicate rows\n",
    "duplicate_rows = data.duplicated().sum()\n",
    "print(f\"Duplicate rows: {duplicate_rows}\")\n",
    "\n",
    "# Remove duplicate rows if any\n",
    "data = data.drop_duplicates()\n"
   ]
  },
  {
   "cell_type": "code",
   "execution_count": 9,
   "id": "60fd554b-1642-456c-9be8-c2760686c6b8",
   "metadata": {},
   "outputs": [
    {
     "name": "stdout",
     "output_type": "stream",
     "text": [
      "ProductID                          int64\n",
      "ProductPrice                     float64\n",
      "CustomerAge                      float64\n",
      "CustomerGender                     int64\n",
      "PurchaseFrequency                float64\n",
      "CustomerSatisfaction               int64\n",
      "PurchaseIntent                     int64\n",
      "ProductCategory_Laptops            int64\n",
      "ProductCategory_Smart Watches      int64\n",
      "ProductCategory_Smartphones        int64\n",
      "ProductCategory_Tablets            int64\n",
      "ProductBrand_HP                    int64\n",
      "ProductBrand_Other Brands          int64\n",
      "ProductBrand_Samsung               int64\n",
      "ProductBrand_Sony                  int64\n",
      "dtype: object\n"
     ]
    }
   ],
   "source": [
    "# Check data types of each column\n",
    "print(data.dtypes)\n"
   ]
  },
  {
   "cell_type": "code",
   "execution_count": 10,
   "id": "8a104977-9dbe-4fba-833f-7153a64d4223",
   "metadata": {},
   "outputs": [],
   "source": [
    "# Convert 'CustomerAge' to numeric if it's in the wrong format\n",
    "data['CustomerAge'] = pd.to_numeric(data['CustomerAge'], errors='coerce')\n"
   ]
  },
  {
   "cell_type": "code",
   "execution_count": 11,
   "id": "5edc4d5e-7449-411e-81a4-b907633a3780",
   "metadata": {},
   "outputs": [
    {
     "data": {
      "image/png": "[encoded data removed]",
      "text/plain": [
       "<Figure size 640x480 with 1 Axes>"
      ]
     },
     "metadata": {},
     "output_type": "display_data"
    }
   ],
   "source": [
    "# Use box plots to detect outliers\n",
    "import matplotlib.pyplot as plt\n",
    "import seaborn as sns\n",
    "\n",
    "# Plot for one of the numeric columns (e.g., 'ProductPrice')\n",
    "sns.boxplot(x=data['ProductPrice'])\n",
    "plt.show()\n"
   ]
  },
  {
   "cell_type": "code",
   "execution_count": 16,
   "id": "05ecd79d-7aa0-48ee-8e19-95764141bdc4",
   "metadata": {},
   "outputs": [],
   "source": [
    "import numpy as np  # Import numpy to handle numerical operations\n",
    "from scipy import stats  # Import stats from scipy for Z-score calculations\n",
    "\n",
    "# Remove rows where the Z-score is above a threshold (e.g., 3 standard deviations)\n",
    "data = data[(np.abs(stats.zscore(data['ProductPrice'])) < 3)]\n"
   ]
  },
  {
   "cell_type": "code",
   "execution_count": 13,
   "id": "dcf34bfa-aa8b-4b76-b495-9357ef14586e",
   "metadata": {},
   "outputs": [],
   "source": [
    "from sklearn.preprocessing import StandardScaler\n",
    "\n",
    "# Select the numeric columns\n",
    "numeric_columns = ['ProductPrice', 'CustomerAge', 'PurchaseFrequency', 'CustomerSatisfaction']\n",
    "\n",
    "# Initialize the scaler\n",
    "scaler = StandardScaler()\n",
    "\n",
    "# Apply scaling\n",
    "data[numeric_columns] = scaler.fit_transform(data[numeric_columns])\n"
   ]
  },
  {
   "cell_type": "code",
   "execution_count": 14,
   "id": "11f93668-0d68-45b9-9b0d-7643e167d533",
   "metadata": {},
   "outputs": [
    {
     "data": {
      "image/png": "[encoded data removed]",
      "text/plain": [
       "<Figure size 640x480 with 2 Axes>"
      ]
     },
     "metadata": {},
     "output_type": "display_data"
    }
   ],
   "source": [
    "# Check correlation matrix\n",
    "correlation_matrix = data.corr()\n",
    "\n",
    "# Use heatmap to visualize the correlations\n",
    "sns.heatmap(correlation_matrix, annot=True, cmap='coolwarm')\n",
    "plt.show()\n"
   ]
  },
  {
   "cell_type": "code",
   "execution_count": 17,
   "id": "1a88039f-0f98-4a0a-9bb2-aa8163e480a8",
   "metadata": {},
   "outputs": [
    {
     "name": "stdout",
     "output_type": "stream",
     "text": [
      "PurchaseIntent\n",
      "1    5098\n",
      "0    3902\n",
      "Name: count, dtype: int64\n"
     ]
    }
   ],
   "source": [
    "# Assuming your target variable is 'PurchaseIntent', replace 'target_column' with the actual name.\n",
    "print(data['PurchaseIntent'].value_counts())\n"
   ]
  },
  {
   "cell_type": "code",
   "execution_count": 18,
   "id": "be08e82b-cb86-435b-99d6-554001d65ebb",
   "metadata": {},
   "outputs": [
    {
     "name": "stdout",
     "output_type": "stream",
     "text": [
      "Index(['ProductID', 'ProductPrice', 'CustomerAge', 'CustomerGender',\n",
      "       'PurchaseFrequency', 'CustomerSatisfaction', 'PurchaseIntent',\n",
      "       'ProductCategory_Laptops', 'ProductCategory_Smart Watches',\n",
      "       'ProductCategory_Smartphones', 'ProductCategory_Tablets',\n",
      "       'ProductBrand_HP', 'ProductBrand_Other Brands', 'ProductBrand_Samsung',\n",
      "       'ProductBrand_Sony'],\n",
      "      dtype='object')\n"
     ]
    }
   ],
   "source": [
    "# Display all the column names in the dataset\n",
    "print(data.columns)\n"
   ]
  },
  {
   "cell_type": "markdown",
   "id": "b63441e5-a395-4a51-a09c-a4780fd9965f",
   "metadata": {},
   "source": [
    "# Step 1: Define the Problem and Objective\n",
    "Objective: Identify the goal of your model. Is it a classification problem (e.g., predict whether a customer will make a purchase) or a regression problem (e.g., predict the exact value of future sales)?"
   ]
  },
  {
   "cell_type": "markdown",
   "id": "1aec2b55-f40d-4ebc-95ed-a44885bd5e6f",
   "metadata": {},
   "source": [
    "# Step 2: Data Preprocessing\n",
    "Check for Missing Data:\n",
    "\n",
    "Review and handle any missing values (e.g., through imputation or removal)."
   ]
  },
  {
   "cell_type": "code",
   "execution_count": 2,
   "id": "8a687040-f9cf-4562-b12a-ef509492b9fe",
   "metadata": {},
   "outputs": [
    {
     "name": "stdout",
     "output_type": "stream",
     "text": [
      "   ProductID  ProductPrice  CustomerAge  CustomerGender  PurchaseFrequency  \\\n",
      "0       5874     -1.463484    -1.683711               0          -1.474937   \n",
      "1       5875     -0.659199    -0.554461               1          -0.559358   \n",
      "2       5876      1.300576     1.305479               0          -1.658053   \n",
      "3       5877     -0.791745     1.305479               1          -0.010010   \n",
      "4       5878      0.327198     0.906920               0           1.271800   \n",
      "\n",
      "   CustomerSatisfaction  PurchaseIntent  ProductCategory_Laptops  \\\n",
      "0                     1               0                        0   \n",
      "1                     2               1                        0   \n",
      "2                     5               1                        0   \n",
      "3                     3               1                        0   \n",
      "4                     3               0                        0   \n",
      "\n",
      "   ProductCategory_Smart Watches  ProductCategory_Smartphones  \\\n",
      "0                              0                            1   \n",
      "1                              1                            0   \n",
      "2                              0                            0   \n",
      "3                              0                            1   \n",
      "4                              0                            0   \n",
      "\n",
      "   ProductCategory_Tablets  ProductBrand_HP  ProductBrand_Other Brands  \\\n",
      "0                        0                0                          1   \n",
      "1                        0                0                          0   \n",
      "2                        1                0                          0   \n",
      "3                        0                0                          0   \n",
      "4                        1                0                          0   \n",
      "\n",
      "   ProductBrand_Samsung  ProductBrand_Sony  \n",
      "0                     0                  0  \n",
      "1                     1                  0  \n",
      "2                     1                  0  \n",
      "3                     1                  0  \n",
      "4                     0                  1  \n"
     ]
    }
   ],
   "source": [
    "import pandas as pd\n",
    "\n",
    "# Load the dataset\n",
    "file_path = r\"C:\\Users\\Ogbemudia\\Downloads\\processed_data_model_ready.csv\"\n",
    "data = pd.read_csv(file_path)\n",
    "\n",
    "# Display the first few rows to confirm it's loaded correctly\n",
    "print(data.head())\n"
   ]
  },
  {
   "cell_type": "code",
   "execution_count": 3,
   "id": "0af38358-ad1e-44aa-a6bd-d31375c1264f",
   "metadata": {},
   "outputs": [
    {
     "name": "stdout",
     "output_type": "stream",
     "text": [
      "ProductID                        0\n",
      "ProductPrice                     0\n",
      "CustomerAge                      0\n",
      "CustomerGender                   0\n",
      "PurchaseFrequency                0\n",
      "CustomerSatisfaction             0\n",
      "PurchaseIntent                   0\n",
      "ProductCategory_Laptops          0\n",
      "ProductCategory_Smart Watches    0\n",
      "ProductCategory_Smartphones      0\n",
      "ProductCategory_Tablets          0\n",
      "ProductBrand_HP                  0\n",
      "ProductBrand_Other Brands        0\n",
      "ProductBrand_Samsung             0\n",
      "ProductBrand_Sony                0\n",
      "dtype: int64\n"
     ]
    }
   ],
   "source": [
    "# Check for missing values\n",
    "missing_values = data.isnull().sum()\n",
    "print(missing_values)\n"
   ]
  },
  {
   "cell_type": "markdown",
   "id": "23cb7d5c-d430-4f5e-9ef4-8874d30a080b",
   "metadata": {},
   "source": [
    "# Step 3: Remove Duplicates\n",
    "After checking for missing values, you can remove any duplicate entries:"
   ]
  },
  {
   "cell_type": "code",
   "execution_count": 4,
   "id": "5a6bb5fc-ac20-4cdc-b10d-b4d65a1598dd",
   "metadata": {},
   "outputs": [],
   "source": [
    "# Remove duplicate rows\n",
    "data.drop_duplicates(inplace=True)\n"
   ]
  },
  {
   "cell_type": "code",
   "execution_count": 5,
   "id": "dad41149-0ad8-4101-b921-7fe5c8bbbdc9",
   "metadata": {},
   "outputs": [],
   "source": [
    "# Step 4: Handle Outliers"
   ]
  },
  {
   "cell_type": "code",
   "execution_count": 6,
   "id": "6929be6f-5fc6-420c-b33a-639e3912008e",
   "metadata": {},
   "outputs": [],
   "source": [
    "from scipy import stats\n",
    "import numpy as np\n",
    "\n",
    "# Remove outliers based on Z-score\n",
    "data = data[(np.abs(stats.zscore(data['ProductPrice'])) < 3)]\n"
   ]
  },
  {
   "cell_type": "markdown",
   "id": "b6b83c0f-f002-4a19-b4dd-d963aedadbfb",
   "metadata": {},
   "source": [
    "# Step 5: Verify Data Preparation\n",
    "After cleaning the data, it's a good practice to verify that the dataset is ready for analysis."
   ]
  },
  {
   "cell_type": "code",
   "execution_count": 7,
   "id": "5391ee36-67ec-41b4-8039-4bb98d67e809",
   "metadata": {},
   "outputs": [
    {
     "name": "stdout",
     "output_type": "stream",
     "text": [
      "(9000, 15)\n",
      "   ProductID  ProductPrice  CustomerAge  CustomerGender  PurchaseFrequency  \\\n",
      "0       5874     -1.463484    -1.683711               0          -1.474937   \n",
      "1       5875     -0.659199    -0.554461               1          -0.559358   \n",
      "2       5876      1.300576     1.305479               0          -1.658053   \n",
      "3       5877     -0.791745     1.305479               1          -0.010010   \n",
      "4       5878      0.327198     0.906920               0           1.271800   \n",
      "\n",
      "   CustomerSatisfaction  PurchaseIntent  ProductCategory_Laptops  \\\n",
      "0                     1               0                        0   \n",
      "1                     2               1                        0   \n",
      "2                     5               1                        0   \n",
      "3                     3               1                        0   \n",
      "4                     3               0                        0   \n",
      "\n",
      "   ProductCategory_Smart Watches  ProductCategory_Smartphones  \\\n",
      "0                              0                            1   \n",
      "1                              1                            0   \n",
      "2                              0                            0   \n",
      "3                              0                            1   \n",
      "4                              0                            0   \n",
      "\n",
      "   ProductCategory_Tablets  ProductBrand_HP  ProductBrand_Other Brands  \\\n",
      "0                        0                0                          1   \n",
      "1                        0                0                          0   \n",
      "2                        1                0                          0   \n",
      "3                        0                0                          0   \n",
      "4                        1                0                          0   \n",
      "\n",
      "   ProductBrand_Samsung  ProductBrand_Sony  \n",
      "0                     0                  0  \n",
      "1                     1                  0  \n",
      "2                     1                  0  \n",
      "3                     1                  0  \n",
      "4                     0                  1  \n"
     ]
    }
   ],
   "source": [
    "# Display the shape of the dataset and check the first few rows again\n",
    "print(data.shape)\n",
    "print(data.head())\n"
   ]
  },
  {
   "cell_type": "markdown",
   "id": "fddf25a4-c054-4cb0-a88e-2019e848bdf2",
   "metadata": {},
   "source": [
    "# Build and train the business analytics model using the data."
   ]
  },
  {
   "cell_type": "markdown",
   "id": "c56ac142-ab9b-44a8-b254-bc6775904024",
   "metadata": {},
   "source": [
    "# Step 1: Import Required Libraries"
   ]
  },
  {
   "cell_type": "code",
   "execution_count": 8,
   "id": "abdeb459-624e-40d8-b1ba-9a11c78bf8de",
   "metadata": {},
   "outputs": [],
   "source": [
    "import pandas as pd\n",
    "from sklearn.model_selection import train_test_split\n",
    "from sklearn.ensemble import RandomForestClassifier  # Example model\n",
    "from sklearn.metrics import classification_report, accuracy_score\n"
   ]
  },
  {
   "cell_type": "markdown",
   "id": "01eb59b1-6ffc-4fa0-86d2-2701ec6d5600",
   "metadata": {},
   "source": [
    "# Step 2: Load the Data"
   ]
  },
  {
   "cell_type": "code",
   "execution_count": 9,
   "id": "3adf12cd-a335-4126-b0b0-f5298b2d5cab",
   "metadata": {},
   "outputs": [],
   "source": [
    "# Load the dataset\n",
    "file_path = r\"C:\\Users\\Ogbemudia\\Downloads\\processed_data_model_ready.csv\"\n",
    "data = pd.read_csv(file_path)\n"
   ]
  },
  {
   "cell_type": "markdown",
   "id": "67811e62-64fd-406d-bdee-2438f013011f",
   "metadata": {},
   "source": [
    "# Step 3: Define Target Variable and Features"
   ]
  },
  {
   "cell_type": "code",
   "execution_count": 10,
   "id": "781de161-5d88-4501-9967-ac319177189c",
   "metadata": {},
   "outputs": [],
   "source": [
    "# Define features and target variable\n",
    "X = data.drop('PurchaseIntent', axis=1)  # Features\n",
    "y = data['PurchaseIntent']  # Target\n"
   ]
  },
  {
   "cell_type": "markdown",
   "id": "27e50055-bc66-4d46-bdf8-c4c275443623",
   "metadata": {},
   "source": [
    "# Step 4: Split the Data"
   ]
  },
  {
   "cell_type": "code",
   "execution_count": 11,
   "id": "be2be718-a6b9-4c7e-a613-c9660d56ed79",
   "metadata": {},
   "outputs": [],
   "source": [
    "# Split the data into training and testing sets\n",
    "X_train, X_test, y_train, y_test = train_test_split(X, y, test_size=0.2, random_state=42)\n"
   ]
  },
  {
   "cell_type": "markdown",
   "id": "29d97f77-4ea0-4428-b834-b8ac9aa9208c",
   "metadata": {},
   "source": [
    "Step 5: Choose and Train the Model"
   ]
  },
  {
   "cell_type": "code",
   "execution_count": 12,
   "id": "232e03ef-23b8-4841-abc1-e726e160e1b0",
   "metadata": {},
   "outputs": [
    {
     "data": {
      "text/html": [
       "<style>#sk-container-id-1 {\n",
       "  /* Definition of color scheme common for light and dark mode */\n",
       "  --sklearn-color-text: black;\n",
       "  --sklearn-color-line: gray;\n",
       "  /* Definition of color scheme for unfitted estimators */\n",
       "  --sklearn-color-unfitted-level-0: #fff5e6;\n",
       "  --sklearn-color-unfitted-level-1: #f6e4d2;\n",
       "  --sklearn-color-unfitted-level-2: #ffe0b3;\n",
       "  --sklearn-color-unfitted-level-3: chocolate;\n",
       "  /* Definition of color scheme for fitted estimators */\n",
       "  --sklearn-color-fitted-level-0: #f0f8ff;\n",
       "  --sklearn-color-fitted-level-1: #d4ebff;\n",
       "  --sklearn-color-fitted-level-2: #b3dbfd;\n",
       "  --sklearn-color-fitted-level-3: cornflowerblue;\n",
       "\n",
       "  /* Specific color for light theme */\n",
       "  --sklearn-color-text-on-default-background: var(--sg-text-color, var(--theme-code-foreground, var(--jp-content-font-color1, black)));\n",
       "  --sklearn-color-background: var(--sg-background-color, var(--theme-background, var(--jp-layout-color0, white)));\n",
       "  --sklearn-color-border-box: var(--sg-text-color, var(--theme-code-foreground, var(--jp-content-font-color1, black)));\n",
       "  --sklearn-color-icon: #696969;\n",
       "\n",
       "  @media (prefers-color-scheme: dark) {\n",
       "    /* Redefinition of color scheme for dark theme */\n",
       "    --sklearn-color-text-on-default-background: var(--sg-text-color, var(--theme-code-foreground, var(--jp-content-font-color1, white)));\n",
       "    --sklearn-color-background: var(--sg-background-color, var(--theme-background, var(--jp-layout-color0, #111)));\n",
       "    --sklearn-color-border-box: var(--sg-text-color, var(--theme-code-foreground, var(--jp-content-font-color1, white)));\n",
       "    --sklearn-color-icon: #878787;\n",
       "  }\n",
       "}\n",
       "\n",
       "#sk-container-id-1 {\n",
       "  color: var(--sklearn-color-text);\n",
       "}\n",
       "\n",
       "#sk-container-id-1 pre {\n",
       "  padding: 0;\n",
       "}\n",
       "\n",
       "#sk-container-id-1 input.sk-hidden--visually {\n",
       "  border: 0;\n",
       "  clip: rect(1px 1px 1px 1px);\n",
       "  clip: rect(1px, 1px, 1px, 1px);\n",
       "  height: 1px;\n",
       "  margin: -1px;\n",
       "  overflow: hidden;\n",
       "  padding: 0;\n",
       "  position: absolute;\n",
       "  width: 1px;\n",
       "}\n",
       "\n",
       "#sk-container-id-1 div.sk-dashed-wrapped {\n",
       "  border: 1px dashed var(--sklearn-color-line);\n",
       "  margin: 0 0.4em 0.5em 0.4em;\n",
       "  box-sizing: border-box;\n",
       "  padding-bottom: 0.4em;\n",
       "  background-color: var(--sklearn-color-background);\n",
       "}\n",
       "\n",
       "#sk-container-id-1 div.sk-container {\n",
       "  /* jupyter's `normalize.less` sets `[hidden] { display: none; }`\n",
       "     but bootstrap.min.css set `[hidden] { display: none !important; }`\n",
       "     so we also need the `!important` here to be able to override the\n",
       "     default hidden behavior on the sphinx rendered scikit-learn.org.\n",
       "     See: https://github.com/scikit-learn/scikit-learn/issues/21755 */\n",
       "  display: inline-block !important;\n",
       "  position: relative;\n",
       "}\n",
       "\n",
       "#sk-container-id-1 div.sk-text-repr-fallback {\n",
       "  display: none;\n",
       "}\n",
       "\n",
       "div.sk-parallel-item,\n",
       "div.sk-serial,\n",
       "div.sk-item {\n",
       "  /* draw centered vertical line to link estimators */\n",
       "  background-image: linear-gradient(var(--sklearn-color-text-on-default-background), var(--sklearn-color-text-on-default-background));\n",
       "  background-size: 2px 100%;\n",
       "  background-repeat: no-repeat;\n",
       "  background-position: center center;\n",
       "}\n",
       "\n",
       "/* Parallel-specific style estimator block */\n",
       "\n",
       "#sk-container-id-1 div.sk-parallel-item::after {\n",
       "  content: \"\";\n",
       "  width: 100%;\n",
       "  border-bottom: 2px solid var(--sklearn-color-text-on-default-background);\n",
       "  flex-grow: 1;\n",
       "}\n",
       "\n",
       "#sk-container-id-1 div.sk-parallel {\n",
       "  display: flex;\n",
       "  align-items: stretch;\n",
       "  justify-content: center;\n",
       "  background-color: var(--sklearn-color-background);\n",
       "  position: relative;\n",
       "}\n",
       "\n",
       "#sk-container-id-1 div.sk-parallel-item {\n",
       "  display: flex;\n",
       "  flex-direction: column;\n",
       "}\n",
       "\n",
       "#sk-container-id-1 div.sk-parallel-item:first-child::after {\n",
       "  align-self: flex-end;\n",
       "  width: 50%;\n",
       "}\n",
       "\n",
       "#sk-container-id-1 div.sk-parallel-item:last-child::after {\n",
       "  align-self: flex-start;\n",
       "  width: 50%;\n",
       "}\n",
       "\n",
       "#sk-container-id-1 div.sk-parallel-item:only-child::after {\n",
       "  width: 0;\n",
       "}\n",
       "\n",
       "/* Serial-specific style estimator block */\n",
       "\n",
       "#sk-container-id-1 div.sk-serial {\n",
       "  display: flex;\n",
       "  flex-direction: column;\n",
       "  align-items: center;\n",
       "  background-color: var(--sklearn-color-background);\n",
       "  padding-right: 1em;\n",
       "  padding-left: 1em;\n",
       "}\n",
       "\n",
       "\n",
       "/* Toggleable style: style used for estimator/Pipeline/ColumnTransformer box that is\n",
       "clickable and can be expanded/collapsed.\n",
       "- Pipeline and ColumnTransformer use this feature and define the default style\n",
       "- Estimators will overwrite some part of the style using the `sk-estimator` class\n",
       "*/\n",
       "\n",
       "/* Pipeline and ColumnTransformer style (default) */\n",
       "\n",
       "#sk-container-id-1 div.sk-toggleable {\n",
       "  /* Default theme specific background. It is overwritten whether we have a\n",
       "  specific estimator or a Pipeline/ColumnTransformer */\n",
       "  background-color: var(--sklearn-color-background);\n",
       "}\n",
       "\n",
       "/* Toggleable label */\n",
       "#sk-container-id-1 label.sk-toggleable__label {\n",
       "  cursor: pointer;\n",
       "  display: block;\n",
       "  width: 100%;\n",
       "  margin-bottom: 0;\n",
       "  padding: 0.5em;\n",
       "  box-sizing: border-box;\n",
       "  text-align: center;\n",
       "}\n",
       "\n",
       "#sk-container-id-1 label.sk-toggleable__label-arrow:before {\n",
       "  /* Arrow on the left of the label */\n",
       "  content: \"▸\";\n",
       "  float: left;\n",
       "  margin-right: 0.25em;\n",
       "  color: var(--sklearn-color-icon);\n",
       "}\n",
       "\n",
       "#sk-container-id-1 label.sk-toggleable__label-arrow:hover:before {\n",
       "  color: var(--sklearn-color-text);\n",
       "}\n",
       "\n",
       "/* Toggleable content - dropdown */\n",
       "\n",
       "#sk-container-id-1 div.sk-toggleable__content {\n",
       "  max-height: 0;\n",
       "  max-width: 0;\n",
       "  overflow: hidden;\n",
       "  text-align: left;\n",
       "  /* unfitted */\n",
       "  background-color: var(--sklearn-color-unfitted-level-0);\n",
       "}\n",
       "\n",
       "#sk-container-id-1 div.sk-toggleable__content.fitted {\n",
       "  /* fitted */\n",
       "  background-color: var(--sklearn-color-fitted-level-0);\n",
       "}\n",
       "\n",
       "#sk-container-id-1 div.sk-toggleable__content pre {\n",
       "  margin: 0.2em;\n",
       "  border-radius: 0.25em;\n",
       "  color: var(--sklearn-color-text);\n",
       "  /* unfitted */\n",
       "  background-color: var(--sklearn-color-unfitted-level-0);\n",
       "}\n",
       "\n",
       "#sk-container-id-1 div.sk-toggleable__content.fitted pre {\n",
       "  /* unfitted */\n",
       "  background-color: var(--sklearn-color-fitted-level-0);\n",
       "}\n",
       "\n",
       "#sk-container-id-1 input.sk-toggleable__control:checked~div.sk-toggleable__content {\n",
       "  /* Expand drop-down */\n",
       "  max-height: 200px;\n",
       "  max-width: 100%;\n",
       "  overflow: auto;\n",
       "}\n",
       "\n",
       "#sk-container-id-1 input.sk-toggleable__control:checked~label.sk-toggleable__label-arrow:before {\n",
       "  content: \"▾\";\n",
       "}\n",
       "\n",
       "/* Pipeline/ColumnTransformer-specific style */\n",
       "\n",
       "#sk-container-id-1 div.sk-label input.sk-toggleable__control:checked~label.sk-toggleable__label {\n",
       "  color: var(--sklearn-color-text);\n",
       "  background-color: var(--sklearn-color-unfitted-level-2);\n",
       "}\n",
       "\n",
       "#sk-container-id-1 div.sk-label.fitted input.sk-toggleable__control:checked~label.sk-toggleable__label {\n",
       "  background-color: var(--sklearn-color-fitted-level-2);\n",
       "}\n",
       "\n",
       "/* Estimator-specific style */\n",
       "\n",
       "/* Colorize estimator box */\n",
       "#sk-container-id-1 div.sk-estimator input.sk-toggleable__control:checked~label.sk-toggleable__label {\n",
       "  /* unfitted */\n",
       "  background-color: var(--sklearn-color-unfitted-level-2);\n",
       "}\n",
       "\n",
       "#sk-container-id-1 div.sk-estimator.fitted input.sk-toggleable__control:checked~label.sk-toggleable__label {\n",
       "  /* fitted */\n",
       "  background-color: var(--sklearn-color-fitted-level-2);\n",
       "}\n",
       "\n",
       "#sk-container-id-1 div.sk-label label.sk-toggleable__label,\n",
       "#sk-container-id-1 div.sk-label label {\n",
       "  /* The background is the default theme color */\n",
       "  color: var(--sklearn-color-text-on-default-background);\n",
       "}\n",
       "\n",
       "/* On hover, darken the color of the background */\n",
       "#sk-container-id-1 div.sk-label:hover label.sk-toggleable__label {\n",
       "  color: var(--sklearn-color-text);\n",
       "  background-color: var(--sklearn-color-unfitted-level-2);\n",
       "}\n",
       "\n",
       "/* Label box, darken color on hover, fitted */\n",
       "#sk-container-id-1 div.sk-label.fitted:hover label.sk-toggleable__label.fitted {\n",
       "  color: var(--sklearn-color-text);\n",
       "  background-color: var(--sklearn-color-fitted-level-2);\n",
       "}\n",
       "\n",
       "/* Estimator label */\n",
       "\n",
       "#sk-container-id-1 div.sk-label label {\n",
       "  font-family: monospace;\n",
       "  font-weight: bold;\n",
       "  display: inline-block;\n",
       "  line-height: 1.2em;\n",
       "}\n",
       "\n",
       "#sk-container-id-1 div.sk-label-container {\n",
       "  text-align: center;\n",
       "}\n",
       "\n",
       "/* Estimator-specific */\n",
       "#sk-container-id-1 div.sk-estimator {\n",
       "  font-family: monospace;\n",
       "  border: 1px dotted var(--sklearn-color-border-box);\n",
       "  border-radius: 0.25em;\n",
       "  box-sizing: border-box;\n",
       "  margin-bottom: 0.5em;\n",
       "  /* unfitted */\n",
       "  background-color: var(--sklearn-color-unfitted-level-0);\n",
       "}\n",
       "\n",
       "#sk-container-id-1 div.sk-estimator.fitted {\n",
       "  /* fitted */\n",
       "  background-color: var(--sklearn-color-fitted-level-0);\n",
       "}\n",
       "\n",
       "/* on hover */\n",
       "#sk-container-id-1 div.sk-estimator:hover {\n",
       "  /* unfitted */\n",
       "  background-color: var(--sklearn-color-unfitted-level-2);\n",
       "}\n",
       "\n",
       "#sk-container-id-1 div.sk-estimator.fitted:hover {\n",
       "  /* fitted */\n",
       "  background-color: var(--sklearn-color-fitted-level-2);\n",
       "}\n",
       "\n",
       "/* Specification for estimator info (e.g. \"i\" and \"?\") */\n",
       "\n",
       "/* Common style for \"i\" and \"?\" */\n",
       "\n",
       ".sk-estimator-doc-link,\n",
       "a:link.sk-estimator-doc-link,\n",
       "a:visited.sk-estimator-doc-link {\n",
       "  float: right;\n",
       "  font-size: smaller;\n",
       "  line-height: 1em;\n",
       "  font-family: monospace;\n",
       "  background-color: var(--sklearn-color-background);\n",
       "  border-radius: 1em;\n",
       "  height: 1em;\n",
       "  width: 1em;\n",
       "  text-decoration: none !important;\n",
       "  margin-left: 1ex;\n",
       "  /* unfitted */\n",
       "  border: var(--sklearn-color-unfitted-level-1) 1pt solid;\n",
       "  color: var(--sklearn-color-unfitted-level-1);\n",
       "}\n",
       "\n",
       ".sk-estimator-doc-link.fitted,\n",
       "a:link.sk-estimator-doc-link.fitted,\n",
       "a:visited.sk-estimator-doc-link.fitted {\n",
       "  /* fitted */\n",
       "  border: var(--sklearn-color-fitted-level-1) 1pt solid;\n",
       "  color: var(--sklearn-color-fitted-level-1);\n",
       "}\n",
       "\n",
       "/* On hover */\n",
       "div.sk-estimator:hover .sk-estimator-doc-link:hover,\n",
       ".sk-estimator-doc-link:hover,\n",
       "div.sk-label-container:hover .sk-estimator-doc-link:hover,\n",
       ".sk-estimator-doc-link:hover {\n",
       "  /* unfitted */\n",
       "  background-color: var(--sklearn-color-unfitted-level-3);\n",
       "  color: var(--sklearn-color-background);\n",
       "  text-decoration: none;\n",
       "}\n",
       "\n",
       "div.sk-estimator.fitted:hover .sk-estimator-doc-link.fitted:hover,\n",
       ".sk-estimator-doc-link.fitted:hover,\n",
       "div.sk-label-container:hover .sk-estimator-doc-link.fitted:hover,\n",
       ".sk-estimator-doc-link.fitted:hover {\n",
       "  /* fitted */\n",
       "  background-color: var(--sklearn-color-fitted-level-3);\n",
       "  color: var(--sklearn-color-background);\n",
       "  text-decoration: none;\n",
       "}\n",
       "\n",
       "/* Span, style for the box shown on hovering the info icon */\n",
       ".sk-estimator-doc-link span {\n",
       "  display: none;\n",
       "  z-index: 9999;\n",
       "  position: relative;\n",
       "  font-weight: normal;\n",
       "  right: .2ex;\n",
       "  padding: .5ex;\n",
       "  margin: .5ex;\n",
       "  width: min-content;\n",
       "  min-width: 20ex;\n",
       "  max-width: 50ex;\n",
       "  color: var(--sklearn-color-text);\n",
       "  box-shadow: 2pt 2pt 4pt #999;\n",
       "  /* unfitted */\n",
       "  background: var(--sklearn-color-unfitted-level-0);\n",
       "  border: .5pt solid var(--sklearn-color-unfitted-level-3);\n",
       "}\n",
       "\n",
       ".sk-estimator-doc-link.fitted span {\n",
       "  /* fitted */\n",
       "  background: var(--sklearn-color-fitted-level-0);\n",
       "  border: var(--sklearn-color-fitted-level-3);\n",
       "}\n",
       "\n",
       ".sk-estimator-doc-link:hover span {\n",
       "  display: block;\n",
       "}\n",
       "\n",
       "/* \"?\"-specific style due to the `<a>` HTML tag */\n",
       "\n",
       "#sk-container-id-1 a.estimator_doc_link {\n",
       "  float: right;\n",
       "  font-size: 1rem;\n",
       "  line-height: 1em;\n",
       "  font-family: monospace;\n",
       "  background-color: var(--sklearn-color-background);\n",
       "  border-radius: 1rem;\n",
       "  height: 1rem;\n",
       "  width: 1rem;\n",
       "  text-decoration: none;\n",
       "  /* unfitted */\n",
       "  color: var(--sklearn-color-unfitted-level-1);\n",
       "  border: var(--sklearn-color-unfitted-level-1) 1pt solid;\n",
       "}\n",
       "\n",
       "#sk-container-id-1 a.estimator_doc_link.fitted {\n",
       "  /* fitted */\n",
       "  border: var(--sklearn-color-fitted-level-1) 1pt solid;\n",
       "  color: var(--sklearn-color-fitted-level-1);\n",
       "}\n",
       "\n",
       "/* On hover */\n",
       "#sk-container-id-1 a.estimator_doc_link:hover {\n",
       "  /* unfitted */\n",
       "  background-color: var(--sklearn-color-unfitted-level-3);\n",
       "  color: var(--sklearn-color-background);\n",
       "  text-decoration: none;\n",
       "}\n",
       "\n",
       "#sk-container-id-1 a.estimator_doc_link.fitted:hover {\n",
       "  /* fitted */\n",
       "  background-color: var(--sklearn-color-fitted-level-3);\n",
       "}\n",
       "</style><div id=\"sk-container-id-1\" class=\"sk-top-container\"><div class=\"sk-text-repr-fallback\"><pre>RandomForestClassifier(random_state=42)</pre><b>In a Jupyter environment, please rerun this cell to show the HTML representation or trust the notebook. <br />On GitHub, the HTML representation is unable to render, please try loading this page with nbviewer.org.</b></div><div class=\"sk-container\" hidden><div class=\"sk-item\"><div class=\"sk-estimator fitted sk-toggleable\"><input class=\"sk-toggleable__control sk-hidden--visually\" id=\"sk-estimator-id-1\" type=\"checkbox\" checked><label for=\"sk-estimator-id-1\" class=\"sk-toggleable__label fitted sk-toggleable__label-arrow fitted\">&nbsp;&nbsp;RandomForestClassifier<a class=\"sk-estimator-doc-link fitted\" rel=\"noreferrer\" target=\"_blank\" href=\"https://scikit-learn.org/1.5/modules/generated/sklearn.ensemble.RandomForestClassifier.html\">?<span>Documentation for RandomForestClassifier</span></a><span class=\"sk-estimator-doc-link fitted\">i<span>Fitted</span></span></label><div class=\"sk-toggleable__content fitted\"><pre>RandomForestClassifier(random_state=42)</pre></div> </div></div></div></div>"
      ],
      "text/plain": [
       "RandomForestClassifier(random_state=42)"
      ]
     },
     "execution_count": 12,
     "metadata": {},
     "output_type": "execute_result"
    }
   ],
   "source": [
    "# Initialize the model\n",
    "model = RandomForestClassifier(random_state=42)\n",
    "\n",
    "# Train the model\n",
    "model.fit(X_train, y_train)\n"
   ]
  },
  {
   "cell_type": "markdown",
   "id": "d30f98b0-e18a-48a1-bf9b-df914fa963b2",
   "metadata": {},
   "source": [
    "# Step 6: Evaluate the Model\n",
    "After training, evaluate the model's performance using the test set"
   ]
  },
  {
   "cell_type": "code",
   "execution_count": 13,
   "id": "0190faff-f57b-4880-a303-bdd07856386b",
   "metadata": {},
   "outputs": [
    {
     "name": "stdout",
     "output_type": "stream",
     "text": [
      "Accuracy: 0.95\n",
      "Classification Report:\n",
      "              precision    recall  f1-score   support\n",
      "\n",
      "           0       0.95      0.95      0.95       793\n",
      "           1       0.96      0.96      0.96      1007\n",
      "\n",
      "    accuracy                           0.95      1800\n",
      "   macro avg       0.95      0.95      0.95      1800\n",
      "weighted avg       0.95      0.95      0.95      1800\n",
      "\n"
     ]
    }
   ],
   "source": [
    "# Make predictions on the test set\n",
    "y_pred = model.predict(X_test)\n",
    "\n",
    "# Evaluate the model\n",
    "accuracy = accuracy_score(y_test, y_pred)\n",
    "report = classification_report(y_test, y_pred)\n",
    "\n",
    "print(f'Accuracy: {accuracy:.2f}')\n",
    "print('Classification Report:')\n",
    "print(report)\n"
   ]
  },
  {
   "cell_type": "markdown",
   "id": "47fc5f5a-4187-4618-9230-3832f7b17256",
   "metadata": {},
   "source": [
    "# Step 7: Interpretation of Results\n",
    "Accuracy: A value close to 1 indicates a well-performing model.\n",
    "Classification Report: This provides detailed metrics, including precision, recall, and F1-score for each class."
   ]
  },
  {
   "cell_type": "markdown",
   "id": "727d332f-7d5d-4ecf-84a4-4c103e743fdb",
   "metadata": {},
   "source": [
    "# : Evaluate the model's performance using relevant metrics."
   ]
  },
  {
   "cell_type": "markdown",
   "id": "c6238f7e-0525-49c0-9d5e-d982f3cdbbbe",
   "metadata": {},
   "source": [
    "# Step 1: Import Required Libraries"
   ]
  },
  {
   "cell_type": "code",
   "execution_count": 14,
   "id": "d89ae541-cea2-45cd-8d5d-257a8112050e",
   "metadata": {},
   "outputs": [],
   "source": [
    "from sklearn.metrics import classification_report, accuracy_score, confusion_matrix, roc_auc_score, roc_curve\n",
    "import matplotlib.pyplot as plt\n",
    "import seaborn as sns\n"
   ]
  },
  {
   "cell_type": "markdown",
   "id": "1ccdad3b-b13c-4d83-8894-67972cedf38c",
   "metadata": {},
   "source": [
    "# Step 2: Make Predictions\n",
    "You already have the predictions from the model"
   ]
  },
  {
   "cell_type": "code",
   "execution_count": 16,
   "id": "8dc46330-24c7-428d-9650-6119cb62638c",
   "metadata": {},
   "outputs": [],
   "source": [
    "# Make predictions on the test set\n",
    "y_pred = model.predict(X_test)\n"
   ]
  },
  {
   "cell_type": "markdown",
   "id": "0fc070ea-429b-4e09-a10f-32f652aedcd8",
   "metadata": {},
   "source": [
    "# Step 3: Calculation of Relevant Metrics:\n",
    "Accuracy: The proportion of correctly classified instances.\n",
    "\n",
    "Confusion Matrix: A matrix that shows the true positives, false positives, true negatives, and false negatives.\n",
    "\n",
    "Classification Report: Includes precision, recall, F1-score, and support for each class.\n",
    "\n",
    "ROC-AUC Score: A single scalar value that captures the performance of the model across all thresholds."
   ]
  },
  {
   "cell_type": "code",
   "execution_count": 17,
   "id": "612b0e4b-ee80-4eb9-9a71-ab757c7c7263",
   "metadata": {},
   "outputs": [
    {
     "name": "stdout",
     "output_type": "stream",
     "text": [
      "Accuracy: 0.95\n",
      "Confusion Matrix:\n",
      "[[751  42]\n",
      " [ 40 967]]\n",
      "Classification Report:\n",
      "              precision    recall  f1-score   support\n",
      "\n",
      "           0       0.95      0.95      0.95       793\n",
      "           1       0.96      0.96      0.96      1007\n",
      "\n",
      "    accuracy                           0.95      1800\n",
      "   macro avg       0.95      0.95      0.95      1800\n",
      "weighted avg       0.95      0.95      0.95      1800\n",
      "\n",
      "ROC-AUC Score: 1.00\n"
     ]
    }
   ],
   "source": [
    "# Calculate accuracy\n",
    "accuracy = accuracy_score(y_test, y_pred)\n",
    "print(f'Accuracy: {accuracy:.2f}')\n",
    "\n",
    "# Generate confusion matrix\n",
    "confusion = confusion_matrix(y_test, y_pred)\n",
    "print('Confusion Matrix:')\n",
    "print(confusion)\n",
    "\n",
    "# Classification report\n",
    "report = classification_report(y_test, y_pred)\n",
    "print('Classification Report:')\n",
    "print(report)\n",
    "\n",
    "# Calculate ROC-AUC score (assuming binary classification)\n",
    "roc_auc = roc_auc_score(y_test, model.predict_proba(X_test)[:, 1])\n",
    "print(f'ROC-AUC Score: {roc_auc:.2f}')\n"
   ]
  },
  {
   "cell_type": "code",
   "execution_count": 18,
   "id": "3b75aebc-a55a-4e0c-bada-9f47e3192fd6",
   "metadata": {},
   "outputs": [],
   "source": [
    "# Step 4: Visualize the Confusion Matrix for better insights"
   ]
  },
  {
   "cell_type": "code",
   "execution_count": 19,
   "id": "ecf0c415-3b7c-4132-9f67-0bc883dda860",
   "metadata": {},
   "outputs": [
    {
     "data": {
      "image/png": "[encoded data removed]",
      "text/plain": [
       "<Figure size 800x600 with 2 Axes>"
      ]
     },
     "metadata": {},
     "output_type": "display_data"
    }
   ],
   "source": [
    "# Plot confusion matrix\n",
    "plt.figure(figsize=(8, 6))\n",
    "sns.heatmap(confusion, annot=True, fmt='d', cmap='Blues', \n",
    "            xticklabels=['No Purchase Intent', 'Purchase Intent'],\n",
    "            yticklabels=['No Purchase Intent', 'Purchase Intent'])\n",
    "plt.xlabel('Predicted Label')\n",
    "plt.ylabel('True Label')\n",
    "plt.title('Confusion Matrix')\n",
    "plt.show()\n"
   ]
  },
  {
   "cell_type": "code",
   "execution_count": 20,
   "id": "889e9138-a613-44d9-80b9-e9b957ef6f47",
   "metadata": {},
   "outputs": [],
   "source": [
    "# Step 5: ROC Curve"
   ]
  },
  {
   "cell_type": "code",
   "execution_count": 21,
   "id": "7c56495a-30c2-4232-a099-e3bff77d87fc",
   "metadata": {},
   "outputs": [
    {
     "data": {
      "image/png": "[encoded data removed]",
      "text/plain": [
       "<Figure size 800x600 with 1 Axes>"
      ]
     },
     "metadata": {},
     "output_type": "display_data"
    }
   ],
   "source": [
    "# Calculate ROC curve\n",
    "fpr, tpr, thresholds = roc_curve(y_test, model.predict_proba(X_test)[:, 1])\n",
    "\n",
    "# Plot ROC curve\n",
    "plt.figure(figsize=(8, 6))\n",
    "plt.plot(fpr, tpr, label='ROC Curve (area = {:.2f})'.format(roc_auc))\n",
    "plt.plot([0, 1], [0, 1], 'k--')\n",
    "plt.xlabel('False Positive Rate')\n",
    "plt.ylabel('True Positive Rate')\n",
    "plt.title('Receiver Operating Characteristic (ROC) Curve')\n",
    "plt.legend(loc='lower right')\n",
    "plt.show()\n"
   ]
  },
  {
   "cell_type": "markdown",
   "id": "06432430-ae9c-4f65-9272-e8d3a0d5f2f5",
   "metadata": {},
   "source": [
    "# Summary of Metrics\n",
    "Accuracy gives a quick overview of the model’s performance.\n",
    "Confusion Matrix shows how well the model is distinguishing between classes.\n",
    "Classification Report provides detailed performance metrics for each class.\n",
    "ROC-AUC Score helps assess the model's performance over different thresholds and indicates how well the model separates classes."
   ]
  }
 ],
 "metadata": {
  "kernelspec": {
   "display_name": "Python 3 (ipykernel)",
   "language": "python",
   "name": "python3"
  },
  "language_info": {
   "codemirror_mode": {
    "name": "ipython",
    "version": 3
   },
   "file_extension": ".py",
   "mimetype": "text/x-python",
   "name": "python",
   "nbconvert_exporter": "python",
   "pygments_lexer": "ipython3",
   "version": "3.11.7"
  }
 },
 "nbformat": 4,
 "nbformat_minor": 5
}
